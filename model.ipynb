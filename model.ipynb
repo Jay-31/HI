{
 "cells": [
  {
   "cell_type": "code",
   "execution_count": null,
   "metadata": {
    "tags": []
   },
   "outputs": [],
   "source": [
    "# Import relevant libraries\n",
    "import pandas\n",
    "import matplotlib.pyplot as plt\n",
    "import numpy\n",
    "import math\n",
    "\n",
    "# Import Keras tools\n",
    "from keras.models import Sequential\n",
    "from keras.layers import Dense\n",
    "from keras.layers import LSTM\n",
    "\n",
    "# Import sklean metrics\n",
    "from sklearn.metrics import mean_squared_error\n",
    "from sklearn.metrics import mean_absolute_error\n",
    "\n",
    "# Read in the dataset\n",
    "dataset = pandas.read_csv('https://gist.githubusercontent.com/FelixHarvey/964b7e33754e79d46ac36a9126891907/raw/48af32bfcbb0deee3b21a4d9f1b4419fc6a53ee5/dataset.csv', engine = 'python')\n",
    "\n",
    "# Use one set of carparks\n",
    "#c1 = \"Bull Ring\"\n",
    "#c2 = \"BHMBRCBRG02\"\n",
    "\n",
    "# Assign the carpark names\n",
    "c1 = \"BHMEURBRD01\"\n",
    "c2 = \"Broad Street\"\n",
    "\n",
    "# Create a list of the selected car parks and filter the data set\n",
    "carparks = [c1, c2]\n",
    "dataset_filtered = dataset[dataset.SystemCodeNumber.isin(carparks)]\n",
    "\n",
    "# Create the occupancy rate column\n",
    "dataset_filtered[\"OccupancyRate\"] = dataset_filtered[\"Occupancy\"]/dataset_filtered[\"Capacity\"]\n",
    "\n",
    "# Check for any unusual values greater than 1 or less than 0\n",
    "print(dataset_filtered[dataset_filtered.OccupancyRate > 1])\n",
    "print(dataset_filtered[dataset_filtered.OccupancyRate < 0])\n",
    "\n",
    "# Create the indiviual datasets c1 is the input, c2 is the output\n",
    "dataset_c1 = dataset_filtered[dataset_filtered.SystemCodeNumber.isin([c1])]\n",
    "dataset_c2 = dataset_filtered[dataset_filtered.SystemCodeNumber.isin([c2])]"
   ]
  },
  {
   "cell_type": "code",
   "execution_count": null,
   "metadata": {
    "tags": []
   },
   "outputs": [],
   "source": [
    "# The training/testing split ration\n",
    "split_ratio = 0.7\n",
    "\n",
    "# Calculate the size of each of the training and test dataset\n",
    "train_size = int(len(dataset_filtered)/2 * split_ratio)\n",
    "test_size = int(len(dataset_filtered)/2) - train_size\n",
    "\n",
    "# Create input datasets\n",
    "trainX = dataset_c1.iloc[0:train_size,:]\n",
    "testX = dataset_c1.iloc[train_size:int(len(dataset_filtered)/2),:]\n",
    "\n",
    "# Create output datasets\n",
    "trainY = dataset_c2.iloc[0:train_size,:]\n",
    "testY = dataset_c2.iloc[train_size:int(len(dataset_filtered)/2),:]\n",
    "print(len(trainX), len(testX))\n",
    "print(len(trainY), len(testY))\n",
    "\n",
    "# Reshape training and testing data\n",
    "trainX = trainX[[\"OccupancyRate\"]].to_numpy()\n",
    "trainX = numpy.reshape(trainX, (trainX.shape[0], 1, trainX.shape[1]))\n",
    "\n",
    "testX = testX[[\"OccupancyRate\"]].to_numpy()\n",
    "testX = numpy.reshape(testX, (testX.shape[0], 1, testX.shape[1]))\n",
    "\n",
    "trainY = trainY[\"OccupancyRate\"].to_numpy()\n",
    "testY = testY[\"OccupancyRate\"].to_numpy()"
   ]
  },
  {
   "cell_type": "code",
   "execution_count": null,
   "metadata": {
    "tags": []
   },
   "outputs": [],
   "source": [
    "# Create random seed\n",
    "numpy.random.seed(30)\n",
    "\n",
    "# Create and train model\n",
    "model = Sequential()\n",
    "model.add(LSTM(1))\n",
    "model.add(Dense(1))\n",
    "model.compile(loss='mean_squared_error', optimizer='adam')\n",
    "model.fit(trainX, trainY, epochs=20, batch_size=1, verbose=2)"
   ]
  },
  {
   "cell_type": "code",
   "execution_count": null,
   "metadata": {
    "tags": []
   },
   "outputs": [],
   "source": [
    "# Make predictions based on input data\n",
    "trainPredict = model.predict(trainX)\n",
    "testPredict = model.predict(testX)\n"
   ]
  },
  {
   "cell_type": "code",
   "execution_count": null,
   "metadata": {
    "tags": []
   },
   "outputs": [],
   "source": [
    "# Calculate RMSE & MAE \n",
    "trainRMSEScore = math.sqrt(mean_squared_error(trainY, trainPredict[:,0]))\n",
    "testRMSEScore = math.sqrt(mean_squared_error(testY, testPredict[:,0]))\n",
    "\n",
    "trainMAEScore = mean_absolute_error(trainY, trainPredict[:,0])\n",
    "testMAEScore = mean_absolute_error(testY, testPredict[:,0])\n",
    "\n",
    "# Print details\n",
    "print('Train Score: %.6f RMSE' % (trainRMSEScore))\n",
    "print('Test Score: %.6f RMSE' % (testRMSEScore))\n",
    "\n",
    "print('Train Score: %.6f MAE' % (trainMAEScore))\n",
    "print('Test Score: %.6f MAE' % (testMAEScore))"
   ]
  },
  {
   "cell_type": "code",
   "execution_count": null,
   "metadata": {},
   "outputs": [],
   "source": [
    "# plot baseline and predictions\n",
    "#plt.plot(dataset_c1[\"OccupancyRate\"].tolist())\n",
    "#plt.plot(trainPredict.tolist())\n",
    "plt.plot(testY.tolist()[0:350])\n",
    "plt.plot(testPredict.tolist()[0:350])\n",
    "plt.show()"
   ]
  }
 ],
 "metadata": {
  "language_info": {
   "codemirror_mode": {
    "name": "ipython",
    "version": 3
   },
   "file_extension": ".py",
   "mimetype": "text/x-python",
   "name": "python",
   "nbconvert_exporter": "python",
   "pygments_lexer": "ipython3",
   "version": "3.8.3-final"
  },
  "orig_nbformat": 2,
  "kernelspec": {
   "name": "python38364bit92c10bfaae4a4281bc0e1f6872789253",
   "display_name": "Python 3.8.3 64-bit"
  }
 },
 "nbformat": 4,
 "nbformat_minor": 2
}